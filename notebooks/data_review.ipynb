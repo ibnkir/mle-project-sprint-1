{
 "cells": [
  {
   "cell_type": "markdown",
   "metadata": {},
   "source": [
    "### Exploratory Data Analysis (EDA)"
   ]
  },
  {
   "cell_type": "code",
   "execution_count": null,
   "metadata": {},
   "outputs": [],
   "source": [
    "Перед запуском убедитесь, что в корне проекта есть файл .env и в нем заполнены выданные вам креды подключения к базам данных и хранилищу"
   ]
  },
  {
   "cell_type": "code",
   "execution_count": null,
   "metadata": {},
   "outputs": [],
   "source": [
    "%load_ext autoreload\n",
    "%autoreload 2"
   ]
  },
  {
   "cell_type": "code",
   "execution_count": null,
   "metadata": {},
   "outputs": [],
   "source": [
    "import os\n",
    "import pandas as pd\n",
    "import numpy as np\n",
    "from dotenv import load_dotenv, find_dotenv\n",
    "from sqlalchemy import create_engine\n",
    "import matplotlib.pyplot as plt\n",
    "from scipy.stats import pearsonr"
   ]
  },
  {
   "cell_type": "code",
   "execution_count": null,
   "metadata": {},
   "outputs": [],
   "source": [
    "# Подгружаем .env\n",
    "load_dotenv()"
   ]
  },
  {
   "cell_type": "code",
   "execution_count": null,
   "metadata": {},
   "outputs": [],
   "source": [
    "# Считываем все креды\n",
    "dst_host = os.environ.get('DB_DESTINATION_HOST')\n",
    "dst_port = os.environ.get('DB_DESTINATION_PORT')\n",
    "dst_username = os.environ.get('DB_DESTINATION_USER')\n",
    "dst_password = os.environ.get('DB_DESTINATION_PASSWORD')\n",
    "dst_db = os.environ.get('DB_DESTINATION_NAME')"
   ]
  },
  {
   "cell_type": "code",
   "execution_count": 5,
   "metadata": {},
   "outputs": [],
   "source": [
    "# Создаем соединение\n",
    "dst_conn = create_engine(f'postgresql://{dst_username}:{dst_password}@{dst_host}:{dst_port}/{dst_db}')"
   ]
  },
  {
   "cell_type": "markdown",
   "metadata": {},
   "source": [
    "#### 1. Flats"
   ]
  },
  {
   "cell_type": "code",
   "execution_count": 7,
   "metadata": {},
   "outputs": [],
   "source": [
    "sql = f\"\"\"select * from flats\"\"\"\n",
    "flats = pd.read_sql(sql, dst_conn)"
   ]
  },
  {
   "cell_type": "code",
   "execution_count": 8,
   "metadata": {},
   "outputs": [
    {
     "data": {
      "text/html": [
       "<div>\n",
       "<style scoped>\n",
       "    .dataframe tbody tr th:only-of-type {\n",
       "        vertical-align: middle;\n",
       "    }\n",
       "\n",
       "    .dataframe tbody tr th {\n",
       "        vertical-align: top;\n",
       "    }\n",
       "\n",
       "    .dataframe thead th {\n",
       "        text-align: right;\n",
       "    }\n",
       "</style>\n",
       "<table border=\"1\" class=\"dataframe\">\n",
       "  <thead>\n",
       "    <tr style=\"text-align: right;\">\n",
       "      <th></th>\n",
       "      <th>id</th>\n",
       "      <th>floor</th>\n",
       "      <th>is_apartment</th>\n",
       "      <th>kitchen_area</th>\n",
       "      <th>living_area</th>\n",
       "      <th>rooms</th>\n",
       "      <th>studio</th>\n",
       "      <th>total_area</th>\n",
       "      <th>price</th>\n",
       "      <th>building_id</th>\n",
       "    </tr>\n",
       "  </thead>\n",
       "  <tbody>\n",
       "    <tr>\n",
       "      <th>0</th>\n",
       "      <td>0</td>\n",
       "      <td>9</td>\n",
       "      <td>False</td>\n",
       "      <td>9.9</td>\n",
       "      <td>19.900000</td>\n",
       "      <td>1</td>\n",
       "      <td>False</td>\n",
       "      <td>35.099998</td>\n",
       "      <td>9500000</td>\n",
       "      <td>6220</td>\n",
       "    </tr>\n",
       "    <tr>\n",
       "      <th>1</th>\n",
       "      <td>1</td>\n",
       "      <td>7</td>\n",
       "      <td>False</td>\n",
       "      <td>0.0</td>\n",
       "      <td>16.600000</td>\n",
       "      <td>1</td>\n",
       "      <td>False</td>\n",
       "      <td>43.000000</td>\n",
       "      <td>13500000</td>\n",
       "      <td>18012</td>\n",
       "    </tr>\n",
       "    <tr>\n",
       "      <th>2</th>\n",
       "      <td>2</td>\n",
       "      <td>9</td>\n",
       "      <td>False</td>\n",
       "      <td>9.0</td>\n",
       "      <td>32.000000</td>\n",
       "      <td>2</td>\n",
       "      <td>False</td>\n",
       "      <td>56.000000</td>\n",
       "      <td>13500000</td>\n",
       "      <td>17821</td>\n",
       "    </tr>\n",
       "    <tr>\n",
       "      <th>3</th>\n",
       "      <td>3</td>\n",
       "      <td>1</td>\n",
       "      <td>False</td>\n",
       "      <td>10.1</td>\n",
       "      <td>43.099998</td>\n",
       "      <td>3</td>\n",
       "      <td>False</td>\n",
       "      <td>76.000000</td>\n",
       "      <td>20000000</td>\n",
       "      <td>18579</td>\n",
       "    </tr>\n",
       "    <tr>\n",
       "      <th>4</th>\n",
       "      <td>4</td>\n",
       "      <td>3</td>\n",
       "      <td>False</td>\n",
       "      <td>3.0</td>\n",
       "      <td>14.000000</td>\n",
       "      <td>1</td>\n",
       "      <td>False</td>\n",
       "      <td>24.000000</td>\n",
       "      <td>5200000</td>\n",
       "      <td>9293</td>\n",
       "    </tr>\n",
       "  </tbody>\n",
       "</table>\n",
       "</div>"
      ],
      "text/plain": [
       "   id  floor  is_apartment  kitchen_area  living_area  rooms  studio  \\\n",
       "0   0      9         False           9.9    19.900000      1   False   \n",
       "1   1      7         False           0.0    16.600000      1   False   \n",
       "2   2      9         False           9.0    32.000000      2   False   \n",
       "3   3      1         False          10.1    43.099998      3   False   \n",
       "4   4      3         False           3.0    14.000000      1   False   \n",
       "\n",
       "   total_area     price  building_id  \n",
       "0   35.099998   9500000         6220  \n",
       "1   43.000000  13500000        18012  \n",
       "2   56.000000  13500000        17821  \n",
       "3   76.000000  20000000        18579  \n",
       "4   24.000000   5200000         9293  "
      ]
     },
     "execution_count": 8,
     "metadata": {},
     "output_type": "execute_result"
    }
   ],
   "source": [
    "flats.head()"
   ]
  },
  {
   "cell_type": "code",
   "execution_count": 5,
   "metadata": {},
   "outputs": [
    {
     "data": {
      "text/plain": [
       "(141362, 10)"
      ]
     },
     "execution_count": 5,
     "metadata": {},
     "output_type": "execute_result"
    }
   ],
   "source": [
    "flats.shape"
   ]
  },
  {
   "cell_type": "code",
   "execution_count": 6,
   "metadata": {},
   "outputs": [
    {
     "name": "stdout",
     "output_type": "stream",
     "text": [
      "<class 'pandas.core.frame.DataFrame'>\n",
      "RangeIndex: 141362 entries, 0 to 141361\n",
      "Data columns (total 10 columns):\n",
      " #   Column        Non-Null Count   Dtype  \n",
      "---  ------        --------------   -----  \n",
      " 0   id            141362 non-null  int64  \n",
      " 1   floor         141362 non-null  int64  \n",
      " 2   is_apartment  141362 non-null  bool   \n",
      " 3   kitchen_area  141362 non-null  float64\n",
      " 4   living_area   141362 non-null  float64\n",
      " 5   rooms         141362 non-null  int64  \n",
      " 6   studio        141362 non-null  bool   \n",
      " 7   total_area    141362 non-null  float64\n",
      " 8   price         141362 non-null  int64  \n",
      " 9   building_id   141362 non-null  int64  \n",
      "dtypes: bool(2), float64(3), int64(5)\n",
      "memory usage: 8.9 MB\n"
     ]
    }
   ],
   "source": [
    "flats.info()"
   ]
  },
  {
   "cell_type": "code",
   "execution_count": 7,
   "metadata": {},
   "outputs": [
    {
     "data": {
      "text/plain": [
       "id              0\n",
       "floor           0\n",
       "is_apartment    0\n",
       "kitchen_area    0\n",
       "living_area     0\n",
       "rooms           0\n",
       "studio          0\n",
       "total_area      0\n",
       "price           0\n",
       "building_id     0\n",
       "dtype: int64"
      ]
     },
     "execution_count": 7,
     "metadata": {},
     "output_type": "execute_result"
    }
   ],
   "source": [
    "flats.isnull().sum()"
   ]
  },
  {
   "cell_type": "code",
   "execution_count": 8,
   "metadata": {},
   "outputs": [
    {
     "data": {
      "text/html": [
       "<div>\n",
       "<style scoped>\n",
       "    .dataframe tbody tr th:only-of-type {\n",
       "        vertical-align: middle;\n",
       "    }\n",
       "\n",
       "    .dataframe tbody tr th {\n",
       "        vertical-align: top;\n",
       "    }\n",
       "\n",
       "    .dataframe thead th {\n",
       "        text-align: right;\n",
       "    }\n",
       "</style>\n",
       "<table border=\"1\" class=\"dataframe\">\n",
       "  <thead>\n",
       "    <tr style=\"text-align: right;\">\n",
       "      <th></th>\n",
       "      <th>id</th>\n",
       "      <th>floor</th>\n",
       "      <th>kitchen_area</th>\n",
       "      <th>living_area</th>\n",
       "      <th>rooms</th>\n",
       "      <th>total_area</th>\n",
       "      <th>price</th>\n",
       "      <th>building_id</th>\n",
       "    </tr>\n",
       "  </thead>\n",
       "  <tbody>\n",
       "    <tr>\n",
       "      <th>count</th>\n",
       "      <td>141362.000000</td>\n",
       "      <td>141362.000000</td>\n",
       "      <td>141362.000000</td>\n",
       "      <td>141362.000000</td>\n",
       "      <td>141362.000000</td>\n",
       "      <td>141362.000000</td>\n",
       "      <td>1.413620e+05</td>\n",
       "      <td>141362.000000</td>\n",
       "    </tr>\n",
       "    <tr>\n",
       "      <th>mean</th>\n",
       "      <td>70680.500000</td>\n",
       "      <td>7.467346</td>\n",
       "      <td>9.001579</td>\n",
       "      <td>31.056948</td>\n",
       "      <td>2.129476</td>\n",
       "      <td>62.374644</td>\n",
       "      <td>1.944162e+07</td>\n",
       "      <td>14053.665235</td>\n",
       "    </tr>\n",
       "    <tr>\n",
       "      <th>std</th>\n",
       "      <td>40807.838714</td>\n",
       "      <td>5.717144</td>\n",
       "      <td>5.264076</td>\n",
       "      <td>23.968640</td>\n",
       "      <td>0.994340</td>\n",
       "      <td>40.295864</td>\n",
       "      <td>6.626954e+07</td>\n",
       "      <td>6988.831066</td>\n",
       "    </tr>\n",
       "    <tr>\n",
       "      <th>min</th>\n",
       "      <td>0.000000</td>\n",
       "      <td>1.000000</td>\n",
       "      <td>0.000000</td>\n",
       "      <td>0.000000</td>\n",
       "      <td>1.000000</td>\n",
       "      <td>11.000000</td>\n",
       "      <td>1.100000e+01</td>\n",
       "      <td>1.000000</td>\n",
       "    </tr>\n",
       "    <tr>\n",
       "      <th>25%</th>\n",
       "      <td>35340.250000</td>\n",
       "      <td>3.000000</td>\n",
       "      <td>6.100000</td>\n",
       "      <td>19.000000</td>\n",
       "      <td>1.000000</td>\n",
       "      <td>39.299999</td>\n",
       "      <td>8.900000e+06</td>\n",
       "      <td>8535.250000</td>\n",
       "    </tr>\n",
       "    <tr>\n",
       "      <th>50%</th>\n",
       "      <td>70680.500000</td>\n",
       "      <td>6.000000</td>\n",
       "      <td>8.800000</td>\n",
       "      <td>29.400000</td>\n",
       "      <td>2.000000</td>\n",
       "      <td>53.000000</td>\n",
       "      <td>1.185000e+07</td>\n",
       "      <td>14332.000000</td>\n",
       "    </tr>\n",
       "    <tr>\n",
       "      <th>75%</th>\n",
       "      <td>106020.750000</td>\n",
       "      <td>10.000000</td>\n",
       "      <td>10.200000</td>\n",
       "      <td>41.400002</td>\n",
       "      <td>3.000000</td>\n",
       "      <td>72.000000</td>\n",
       "      <td>1.695000e+07</td>\n",
       "      <td>20475.000000</td>\n",
       "    </tr>\n",
       "    <tr>\n",
       "      <th>max</th>\n",
       "      <td>141361.000000</td>\n",
       "      <td>56.000000</td>\n",
       "      <td>203.000000</td>\n",
       "      <td>700.000000</td>\n",
       "      <td>20.000000</td>\n",
       "      <td>960.299988</td>\n",
       "      <td>9.873738e+09</td>\n",
       "      <td>24620.000000</td>\n",
       "    </tr>\n",
       "  </tbody>\n",
       "</table>\n",
       "</div>"
      ],
      "text/plain": [
       "                  id          floor   kitchen_area    living_area  \\\n",
       "count  141362.000000  141362.000000  141362.000000  141362.000000   \n",
       "mean    70680.500000       7.467346       9.001579      31.056948   \n",
       "std     40807.838714       5.717144       5.264076      23.968640   \n",
       "min         0.000000       1.000000       0.000000       0.000000   \n",
       "25%     35340.250000       3.000000       6.100000      19.000000   \n",
       "50%     70680.500000       6.000000       8.800000      29.400000   \n",
       "75%    106020.750000      10.000000      10.200000      41.400002   \n",
       "max    141361.000000      56.000000     203.000000     700.000000   \n",
       "\n",
       "               rooms     total_area         price    building_id  \n",
       "count  141362.000000  141362.000000  1.413620e+05  141362.000000  \n",
       "mean        2.129476      62.374644  1.944162e+07   14053.665235  \n",
       "std         0.994340      40.295864  6.626954e+07    6988.831066  \n",
       "min         1.000000      11.000000  1.100000e+01       1.000000  \n",
       "25%         1.000000      39.299999  8.900000e+06    8535.250000  \n",
       "50%         2.000000      53.000000  1.185000e+07   14332.000000  \n",
       "75%         3.000000      72.000000  1.695000e+07   20475.000000  \n",
       "max        20.000000     960.299988  9.873738e+09   24620.000000  "
      ]
     },
     "execution_count": 8,
     "metadata": {},
     "output_type": "execute_result"
    }
   ],
   "source": [
    "flats.describe()"
   ]
  },
  {
   "cell_type": "markdown",
   "metadata": {},
   "source": [
    "Посмотрим распределение целочисленных переменных"
   ]
  },
  {
   "cell_type": "code",
   "execution_count": 10,
   "metadata": {},
   "outputs": [
    {
     "data": {
      "text/plain": [
       "(array([9.4705e+04, 4.4021e+04, 2.3580e+03, 2.3400e+02, 3.7000e+01,\n",
       "        4.0000e+00, 0.0000e+00, 1.0000e+00, 1.0000e+00, 1.0000e+00]),\n",
       " array([ 1. ,  2.9,  4.8,  6.7,  8.6, 10.5, 12.4, 14.3, 16.2, 18.1, 20. ]),\n",
       " <BarContainer object of 10 artists>)"
      ]
     },
     "execution_count": 10,
     "metadata": {},
     "output_type": "execute_result"
    },
    {
     "data": {
      "image/png": "[encoded data removed]",
      "text/plain": [
       "<Figure size 640x480 with 1 Axes>"
      ]
     },
     "metadata": {},
     "output_type": "display_data"
    }
   ],
   "source": [
    "plt.hist(flats['rooms'])"
   ]
  },
  {
   "cell_type": "code",
   "execution_count": 14,
   "metadata": {},
   "outputs": [
    {
     "data": {
      "text/plain": [
       "(array([7.4623e+04, 3.7647e+04, 2.1994e+04, 4.4260e+03, 1.7200e+03,\n",
       "        4.0400e+02, 2.8300e+02, 1.5400e+02, 6.8000e+01, 4.3000e+01]),\n",
       " array([ 1. ,  6.5, 12. , 17.5, 23. , 28.5, 34. , 39.5, 45. , 50.5, 56. ]),\n",
       " <BarContainer object of 10 artists>)"
      ]
     },
     "execution_count": 14,
     "metadata": {},
     "output_type": "execute_result"
    },
    {
     "data": {
      "image/png": "[encoded data removed]",
      "text/plain": [
       "<Figure size 640x480 with 1 Axes>"
      ]
     },
     "metadata": {},
     "output_type": "display_data"
    }
   ],
   "source": [
    "plt.hist(flats['floor'])"
   ]
  },
  {
   "cell_type": "markdown",
   "metadata": {},
   "source": [
    "Оценим корреляцию признаков, связанных с площадью квартир"
   ]
  },
  {
   "cell_type": "code",
   "execution_count": 12,
   "metadata": {},
   "outputs": [
    {
     "name": "stdout",
     "output_type": "stream",
     "text": [
      "0.5753996274456243\n",
      "0.3284773819024633\n",
      "0.41837584075174955\n",
      "0.5833927875854661\n"
     ]
    }
   ],
   "source": [
    "print(pearsonr(flats['living_area'], flats['total_area'])[0]) \n",
    "print(pearsonr(flats['kitchen_area'], flats['total_area'])[0]) \n",
    "print(pearsonr(flats['living_area'], flats['kitchen_area'])[0])"
   ]
  },
  {
   "cell_type": "markdown",
   "metadata": {},
   "source": [
    "Выводы по таблице Flats:\n",
    "- В таблице Flats отсутствуют константные признаки; \n",
    "- Целочисленные признаки floor и rooms можно считать категориальными;\n",
    "- Все 3 колонки с площадями нужно сохранить, т.к. между ними нет значительной корреляции."
   ]
  },
  {
   "cell_type": "markdown",
   "metadata": {},
   "source": [
    "#### 2. Buildings"
   ]
  },
  {
   "cell_type": "code",
   "execution_count": 9,
   "metadata": {},
   "outputs": [],
   "source": [
    "sql = f\"\"\"select * from buildings\"\"\"\n",
    "buildings = pd.read_sql(sql, dst_conn)"
   ]
  },
  {
   "cell_type": "code",
   "execution_count": 10,
   "metadata": {},
   "outputs": [
    {
     "data": {
      "text/html": [
       "<div>\n",
       "<style scoped>\n",
       "    .dataframe tbody tr th:only-of-type {\n",
       "        vertical-align: middle;\n",
       "    }\n",
       "\n",
       "    .dataframe tbody tr th {\n",
       "        vertical-align: top;\n",
       "    }\n",
       "\n",
       "    .dataframe thead th {\n",
       "        text-align: right;\n",
       "    }\n",
       "</style>\n",
       "<table border=\"1\" class=\"dataframe\">\n",
       "  <thead>\n",
       "    <tr style=\"text-align: right;\">\n",
       "      <th></th>\n",
       "      <th>id</th>\n",
       "      <th>build_year</th>\n",
       "      <th>building_type_int</th>\n",
       "      <th>latitude</th>\n",
       "      <th>longitude</th>\n",
       "      <th>ceiling_height</th>\n",
       "      <th>flats_count</th>\n",
       "      <th>floors_total</th>\n",
       "      <th>has_elevator</th>\n",
       "    </tr>\n",
       "  </thead>\n",
       "  <tbody>\n",
       "    <tr>\n",
       "      <th>0</th>\n",
       "      <td>6220</td>\n",
       "      <td>1965</td>\n",
       "      <td>6</td>\n",
       "      <td>55.717113</td>\n",
       "      <td>37.781120</td>\n",
       "      <td>2.64</td>\n",
       "      <td>84</td>\n",
       "      <td>12</td>\n",
       "      <td>True</td>\n",
       "    </tr>\n",
       "    <tr>\n",
       "      <th>1</th>\n",
       "      <td>18012</td>\n",
       "      <td>2001</td>\n",
       "      <td>2</td>\n",
       "      <td>55.794849</td>\n",
       "      <td>37.608013</td>\n",
       "      <td>3.00</td>\n",
       "      <td>97</td>\n",
       "      <td>10</td>\n",
       "      <td>True</td>\n",
       "    </tr>\n",
       "    <tr>\n",
       "      <th>2</th>\n",
       "      <td>17821</td>\n",
       "      <td>2000</td>\n",
       "      <td>4</td>\n",
       "      <td>55.740040</td>\n",
       "      <td>37.761742</td>\n",
       "      <td>2.70</td>\n",
       "      <td>80</td>\n",
       "      <td>10</td>\n",
       "      <td>True</td>\n",
       "    </tr>\n",
       "    <tr>\n",
       "      <th>3</th>\n",
       "      <td>18579</td>\n",
       "      <td>2002</td>\n",
       "      <td>4</td>\n",
       "      <td>55.672016</td>\n",
       "      <td>37.570877</td>\n",
       "      <td>2.64</td>\n",
       "      <td>771</td>\n",
       "      <td>17</td>\n",
       "      <td>True</td>\n",
       "    </tr>\n",
       "    <tr>\n",
       "      <th>4</th>\n",
       "      <td>9293</td>\n",
       "      <td>1971</td>\n",
       "      <td>1</td>\n",
       "      <td>55.808807</td>\n",
       "      <td>37.707306</td>\n",
       "      <td>2.60</td>\n",
       "      <td>208</td>\n",
       "      <td>9</td>\n",
       "      <td>True</td>\n",
       "    </tr>\n",
       "  </tbody>\n",
       "</table>\n",
       "</div>"
      ],
      "text/plain": [
       "      id  build_year  building_type_int   latitude  longitude  ceiling_height  \\\n",
       "0   6220        1965                  6  55.717113  37.781120            2.64   \n",
       "1  18012        2001                  2  55.794849  37.608013            3.00   \n",
       "2  17821        2000                  4  55.740040  37.761742            2.70   \n",
       "3  18579        2002                  4  55.672016  37.570877            2.64   \n",
       "4   9293        1971                  1  55.808807  37.707306            2.60   \n",
       "\n",
       "   flats_count  floors_total  has_elevator  \n",
       "0           84            12          True  \n",
       "1           97            10          True  \n",
       "2           80            10          True  \n",
       "3          771            17          True  \n",
       "4          208             9          True  "
      ]
     },
     "execution_count": 10,
     "metadata": {},
     "output_type": "execute_result"
    }
   ],
   "source": [
    "buildings.head()"
   ]
  },
  {
   "cell_type": "code",
   "execution_count": 13,
   "metadata": {},
   "outputs": [
    {
     "data": {
      "text/plain": [
       "(24620, 9)"
      ]
     },
     "execution_count": 13,
     "metadata": {},
     "output_type": "execute_result"
    }
   ],
   "source": [
    "buildings.shape"
   ]
  },
  {
   "cell_type": "code",
   "execution_count": 14,
   "metadata": {},
   "outputs": [
    {
     "name": "stdout",
     "output_type": "stream",
     "text": [
      "<class 'pandas.core.frame.DataFrame'>\n",
      "RangeIndex: 24620 entries, 0 to 24619\n",
      "Data columns (total 9 columns):\n",
      " #   Column             Non-Null Count  Dtype  \n",
      "---  ------             --------------  -----  \n",
      " 0   id                 24620 non-null  int64  \n",
      " 1   build_year         24620 non-null  int64  \n",
      " 2   building_type_int  24620 non-null  int64  \n",
      " 3   latitude           24620 non-null  float64\n",
      " 4   longitude          24620 non-null  float64\n",
      " 5   ceiling_height     24620 non-null  float64\n",
      " 6   flats_count        24620 non-null  int64  \n",
      " 7   floors_total       24620 non-null  int64  \n",
      " 8   has_elevator       24620 non-null  bool   \n",
      "dtypes: bool(1), float64(3), int64(5)\n",
      "memory usage: 1.5 MB\n"
     ]
    }
   ],
   "source": [
    "buildings.info()"
   ]
  },
  {
   "cell_type": "code",
   "execution_count": 15,
   "metadata": {},
   "outputs": [
    {
     "data": {
      "text/plain": [
       "id                   0\n",
       "build_year           0\n",
       "building_type_int    0\n",
       "latitude             0\n",
       "longitude            0\n",
       "ceiling_height       0\n",
       "flats_count          0\n",
       "floors_total         0\n",
       "has_elevator         0\n",
       "dtype: int64"
      ]
     },
     "execution_count": 15,
     "metadata": {},
     "output_type": "execute_result"
    }
   ],
   "source": [
    "buildings.isnull().sum()"
   ]
  },
  {
   "cell_type": "code",
   "execution_count": 16,
   "metadata": {},
   "outputs": [
    {
     "data": {
      "text/html": [
       "<div>\n",
       "<style scoped>\n",
       "    .dataframe tbody tr th:only-of-type {\n",
       "        vertical-align: middle;\n",
       "    }\n",
       "\n",
       "    .dataframe tbody tr th {\n",
       "        vertical-align: top;\n",
       "    }\n",
       "\n",
       "    .dataframe thead th {\n",
       "        text-align: right;\n",
       "    }\n",
       "</style>\n",
       "<table border=\"1\" class=\"dataframe\">\n",
       "  <thead>\n",
       "    <tr style=\"text-align: right;\">\n",
       "      <th></th>\n",
       "      <th>id</th>\n",
       "      <th>build_year</th>\n",
       "      <th>building_type_int</th>\n",
       "      <th>latitude</th>\n",
       "      <th>longitude</th>\n",
       "      <th>ceiling_height</th>\n",
       "      <th>flats_count</th>\n",
       "      <th>floors_total</th>\n",
       "    </tr>\n",
       "  </thead>\n",
       "  <tbody>\n",
       "    <tr>\n",
       "      <th>count</th>\n",
       "      <td>24620.00000</td>\n",
       "      <td>24620.000000</td>\n",
       "      <td>24620.000000</td>\n",
       "      <td>24620.000000</td>\n",
       "      <td>24620.000000</td>\n",
       "      <td>24620.000000</td>\n",
       "      <td>24620.000000</td>\n",
       "      <td>24620.000000</td>\n",
       "    </tr>\n",
       "    <tr>\n",
       "      <th>mean</th>\n",
       "      <td>12310.50000</td>\n",
       "      <td>1981.377295</td>\n",
       "      <td>3.153656</td>\n",
       "      <td>55.738892</td>\n",
       "      <td>37.593816</td>\n",
       "      <td>2.753557</td>\n",
       "      <td>184.882575</td>\n",
       "      <td>12.441024</td>\n",
       "    </tr>\n",
       "    <tr>\n",
       "      <th>std</th>\n",
       "      <td>7107.32615</td>\n",
       "      <td>22.657856</td>\n",
       "      <td>1.636435</td>\n",
       "      <td>0.101094</td>\n",
       "      <td>0.145408</td>\n",
       "      <td>0.277912</td>\n",
       "      <td>158.427509</td>\n",
       "      <td>6.271325</td>\n",
       "    </tr>\n",
       "    <tr>\n",
       "      <th>min</th>\n",
       "      <td>1.00000</td>\n",
       "      <td>1901.000000</td>\n",
       "      <td>0.000000</td>\n",
       "      <td>55.211460</td>\n",
       "      <td>36.864372</td>\n",
       "      <td>2.000000</td>\n",
       "      <td>1.000000</td>\n",
       "      <td>1.000000</td>\n",
       "    </tr>\n",
       "    <tr>\n",
       "      <th>25%</th>\n",
       "      <td>6155.75000</td>\n",
       "      <td>1965.000000</td>\n",
       "      <td>1.000000</td>\n",
       "      <td>55.668725</td>\n",
       "      <td>37.499031</td>\n",
       "      <td>2.640000</td>\n",
       "      <td>80.000000</td>\n",
       "      <td>8.000000</td>\n",
       "    </tr>\n",
       "    <tr>\n",
       "      <th>50%</th>\n",
       "      <td>12310.50000</td>\n",
       "      <td>1978.000000</td>\n",
       "      <td>4.000000</td>\n",
       "      <td>55.742020</td>\n",
       "      <td>37.588400</td>\n",
       "      <td>2.640000</td>\n",
       "      <td>139.000000</td>\n",
       "      <td>12.000000</td>\n",
       "    </tr>\n",
       "    <tr>\n",
       "      <th>75%</th>\n",
       "      <td>18465.25000</td>\n",
       "      <td>2002.000000</td>\n",
       "      <td>4.000000</td>\n",
       "      <td>55.811775</td>\n",
       "      <td>37.698833</td>\n",
       "      <td>2.900000</td>\n",
       "      <td>242.000000</td>\n",
       "      <td>16.000000</td>\n",
       "    </tr>\n",
       "    <tr>\n",
       "      <th>max</th>\n",
       "      <td>24620.00000</td>\n",
       "      <td>2023.000000</td>\n",
       "      <td>6.000000</td>\n",
       "      <td>56.011032</td>\n",
       "      <td>37.946411</td>\n",
       "      <td>27.000000</td>\n",
       "      <td>4455.000000</td>\n",
       "      <td>99.000000</td>\n",
       "    </tr>\n",
       "  </tbody>\n",
       "</table>\n",
       "</div>"
      ],
      "text/plain": [
       "                id    build_year  building_type_int      latitude  \\\n",
       "count  24620.00000  24620.000000       24620.000000  24620.000000   \n",
       "mean   12310.50000   1981.377295           3.153656     55.738892   \n",
       "std     7107.32615     22.657856           1.636435      0.101094   \n",
       "min        1.00000   1901.000000           0.000000     55.211460   \n",
       "25%     6155.75000   1965.000000           1.000000     55.668725   \n",
       "50%    12310.50000   1978.000000           4.000000     55.742020   \n",
       "75%    18465.25000   2002.000000           4.000000     55.811775   \n",
       "max    24620.00000   2023.000000           6.000000     56.011032   \n",
       "\n",
       "          longitude  ceiling_height   flats_count  floors_total  \n",
       "count  24620.000000    24620.000000  24620.000000  24620.000000  \n",
       "mean      37.593816        2.753557    184.882575     12.441024  \n",
       "std        0.145408        0.277912    158.427509      6.271325  \n",
       "min       36.864372        2.000000      1.000000      1.000000  \n",
       "25%       37.499031        2.640000     80.000000      8.000000  \n",
       "50%       37.588400        2.640000    139.000000     12.000000  \n",
       "75%       37.698833        2.900000    242.000000     16.000000  \n",
       "max       37.946411       27.000000   4455.000000     99.000000  "
      ]
     },
     "execution_count": 16,
     "metadata": {},
     "output_type": "execute_result"
    }
   ],
   "source": [
    "buildings.describe()"
   ]
  },
  {
   "cell_type": "markdown",
   "metadata": {},
   "source": [
    "Посмотрим распределение целочисленных признаков"
   ]
  },
  {
   "cell_type": "code",
   "execution_count": 17,
   "metadata": {},
   "outputs": [
    {
     "data": {
      "text/plain": [
       "(array([ 228.,  164.,  414.,  263., 3024., 6998., 3585., 2619., 4460.,\n",
       "        2865.]),\n",
       " array([1901. , 1913.2, 1925.4, 1937.6, 1949.8, 1962. , 1974.2, 1986.4,\n",
       "        1998.6, 2010.8, 2023. ]),\n",
       " <BarContainer object of 10 artists>)"
      ]
     },
     "execution_count": 17,
     "metadata": {},
     "output_type": "execute_result"
    },
    {
     "data": {
      "image/png": "[encoded data removed]",
      "text/plain": [
       "<Figure size 640x480 with 1 Axes>"
      ]
     },
     "metadata": {},
     "output_type": "display_data"
    }
   ],
   "source": [
    "plt.hist(buildings['build_year'], bins=10)"
   ]
  },
  {
   "cell_type": "code",
   "execution_count": 18,
   "metadata": {},
   "outputs": [
    {
     "data": {
      "text/plain": [
       "(array([1.8002e+04, 5.0870e+03, 1.1280e+03, 2.8500e+02, 6.6000e+01,\n",
       "        2.6000e+01, 0.0000e+00, 2.5000e+01, 0.0000e+00, 0.0000e+00,\n",
       "        0.0000e+00, 0.0000e+00, 0.0000e+00, 0.0000e+00, 0.0000e+00,\n",
       "        0.0000e+00, 0.0000e+00, 0.0000e+00, 0.0000e+00, 1.0000e+00]),\n",
       " array([1.0000e+00, 2.2370e+02, 4.4640e+02, 6.6910e+02, 8.9180e+02,\n",
       "        1.1145e+03, 1.3372e+03, 1.5599e+03, 1.7826e+03, 2.0053e+03,\n",
       "        2.2280e+03, 2.4507e+03, 2.6734e+03, 2.8961e+03, 3.1188e+03,\n",
       "        3.3415e+03, 3.5642e+03, 3.7869e+03, 4.0096e+03, 4.2323e+03,\n",
       "        4.4550e+03]),\n",
       " <BarContainer object of 20 artists>)"
      ]
     },
     "execution_count": 18,
     "metadata": {},
     "output_type": "execute_result"
    },
    {
     "data": {
      "image/png": "[encoded data removed]",
      "text/plain": [
       "<Figure size 640x480 with 1 Axes>"
      ]
     },
     "metadata": {},
     "output_type": "display_data"
    }
   ],
   "source": [
    "plt.hist(buildings['flats_count'], bins=20)"
   ]
  },
  {
   "cell_type": "code",
   "execution_count": 19,
   "metadata": {},
   "outputs": [
    {
     "data": {
      "text/plain": [
       "(array([5.6210e+03, 1.0674e+04, 5.8250e+03, 2.1400e+03, 1.9200e+02,\n",
       "        1.0000e+02, 3.0000e+01, 1.9000e+01, 1.4000e+01, 2.0000e+00,\n",
       "        1.0000e+00, 0.0000e+00, 1.0000e+00, 0.0000e+00, 1.0000e+00]),\n",
       " array([ 1.        ,  7.53333333, 14.06666667, 20.6       , 27.13333333,\n",
       "        33.66666667, 40.2       , 46.73333333, 53.26666667, 59.8       ,\n",
       "        66.33333333, 72.86666667, 79.4       , 85.93333333, 92.46666667,\n",
       "        99.        ]),\n",
       " <BarContainer object of 15 artists>)"
      ]
     },
     "execution_count": 19,
     "metadata": {},
     "output_type": "execute_result"
    },
    {
     "data": {
      "image/png": "[encoded data removed]",
      "text/plain": [
       "<Figure size 640x480 with 1 Axes>"
      ]
     },
     "metadata": {},
     "output_type": "display_data"
    }
   ],
   "source": [
    "plt.hist(buildings['floors_total'], bins=15)"
   ]
  },
  {
   "cell_type": "markdown",
   "metadata": {},
   "source": [
    "Выводы по таблице Buildings:\n",
    "- Колонки latitude и longitude можно считать константными и исключить из числа признаков; \n",
    "- Все целочисленные признаки можно считать категориальными."
   ]
  }
 ],
 "metadata": {
  "kernelspec": {
   "display_name": "Python 3 (ipykernel)",
   "language": "python",
   "name": "python3"
  },
  "language_info": {
   "codemirror_mode": {
    "name": "ipython",
    "version": 3
   },
   "file_extension": ".py",
   "mimetype": "text/x-python",
   "name": "python",
   "nbconvert_exporter": "python",
   "pygments_lexer": "ipython3",
   "version": "3.10.12"
  }
 },
 "nbformat": 4,
 "nbformat_minor": 4
}
