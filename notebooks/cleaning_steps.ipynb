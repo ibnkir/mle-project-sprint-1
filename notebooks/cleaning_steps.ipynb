{
 "cells": [
  {
   "cell_type": "markdown",
   "id": "709ba5dd-2a91-4544-9560-4800ff04aac2",
   "metadata": {},
   "source": [
    "#### Функции предобработки данных (для ручного запуска и тестирования)"
   ]
  },
  {
   "cell_type": "code",
   "execution_count": 2,
   "id": "289bebfc",
   "metadata": {},
   "outputs": [],
   "source": [
    "import pandas as pd\n",
    "import numpy as np\n",
    "import sqlalchemy\n",
    "from sqlalchemy import create_engine\n",
    "import os\n",
    "from dotenv import load_dotenv, find_dotenv"
   ]
  },
  {
   "cell_type": "code",
   "execution_count": null,
   "id": "1a61fbdb",
   "metadata": {},
   "outputs": [],
   "source": [
    "load_dotenv()"
   ]
  },
  {
   "cell_type": "code",
   "execution_count": null,
   "id": "ce36044d",
   "metadata": {},
   "outputs": [],
   "source": [
    "dst_host = os.environ.get('DB_DESTINATION_HOST')\n",
    "dst_port = os.environ.get('DB_DESTINATION_PORT')\n",
    "dst_username = os.environ.get('DB_DESTINATION_USER')\n",
    "dst_password = os.environ.get('DB_DESTINATION_PASSWORD')\n",
    "dst_db = os.environ.get('DB_DESTINATION_NAME')"
   ]
  },
  {
   "cell_type": "code",
   "execution_count": 67,
   "id": "0a00202a",
   "metadata": {},
   "outputs": [],
   "source": [
    "dst_conn = create_engine(f'postgresql://{dst_username}:{dst_password}@{dst_host}:{dst_port}/{dst_db}')"
   ]
  },
  {
   "cell_type": "code",
   "execution_count": 68,
   "id": "c5b397dc",
   "metadata": {},
   "outputs": [],
   "source": [
    "# Извелечение исходных данных\n",
    "\n",
    "def extract(conn):\n",
    "    sql = f\"\"\"\n",
    "        select\n",
    "            f.id, f.floor, f.kitchen_area, f.living_area, f.rooms, f.is_apartment, f.studio, f.total_area, f.price,\n",
    "            b.build_year, b.building_type_int, b.latitude, b.longitude, b.ceiling_height, b.flats_count, b.floors_total, b.has_elevator\n",
    "        from flats as f\n",
    "        left join buildings as b on f.building_id = b.id\n",
    "        \"\"\"\n",
    "\n",
    "    data = pd.read_sql(sql, conn)\n",
    "    return data"
   ]
  },
  {
   "cell_type": "code",
   "execution_count": 69,
   "id": "00fe8bab",
   "metadata": {},
   "outputs": [],
   "source": [
    "# Предварительная трансформация объединенной таблицы\n",
    "\n",
    "def transform(data):\n",
    "    # Изменяем тип булевских столбцов на integer\n",
    "    bool_cols = data.select_dtypes(bool).columns\n",
    "    data[bool_cols] = data[bool_cols].astype(int)\n",
    "    \n",
    "    # Переименовываем колонку id у квартир на flat_id (т.к. id - это индексная колонка в БД)\n",
    "    data.rename(columns={'id': 'flat_id'}, inplace=True)\n",
    "    \n",
    "    # Удаляем строки с пустыми, отрицательными и нулевыми ценами\n",
    "    data = data[~(data['price'].isnull() | (data['price'] <= 0))]\n",
    "    \n",
    "    # Дабавляем target = ln(1 + price)\n",
    "    data['target'] = np.log1p(data['price'])\n",
    "    \n",
    "    return data"
   ]
  },
  {
   "cell_type": "code",
   "execution_count": 70,
   "id": "3ed9d807",
   "metadata": {},
   "outputs": [],
   "source": [
    "# Удаление строк-дубликатов\n",
    "\n",
    "def remove_duplicates(data):\n",
    "    cols_to_check = data.columns.drop(['flat_id']).tolist()\n",
    "    duplicated_rows = data.duplicated(subset=cols_to_check, keep=False)\n",
    "    data = data[~duplicated_rows].reset_index(drop=True)\n",
    "    return data"
   ]
  },
  {
   "cell_type": "code",
   "execution_count": 71,
   "id": "17759227",
   "metadata": {},
   "outputs": [],
   "source": [
    "# Заполнение пропусков в признаках\n",
    "\n",
    "def fill_missing_values(data):\n",
    "    cols_with_nans = data.isnull().sum()\n",
    "    cols_with_nans = cols_with_nans[cols_with_nans > 0].index\n",
    "    \n",
    "    # В колонке flat_id не может быть пропусков, т.к. она была индексом в исходной таблице flats\n",
    "    # Также сюда не попадают колонки price и target, т.к. ранее мы удалили строки с пустыми ценами\n",
    "    for col in cols_with_nans:\n",
    "        if data[col].dtype in ['float']:\n",
    "            fill_value = data[col].mean()\n",
    "        elif data[col].dtype in ['int', 'object']:\n",
    "            fill_value = data[col].mode().iloc[0]\n",
    "        \n",
    "        data[col].fillna(value=fill_value, inplace=True)\n",
    "    \n",
    "    return data"
   ]
  },
  {
   "cell_type": "code",
   "execution_count": 72,
   "id": "538518e9",
   "metadata": {},
   "outputs": [],
   "source": [
    "# Удаление строк с выбросами у вещественных признаков\n",
    "\n",
    "def remove_outliers(data):\n",
    "    num_cols = data.select_dtypes(['float']).drop(columns=['target']).columns\n",
    "    threshold = 1.5\n",
    "    potential_outliers = pd.DataFrame()\n",
    "    \n",
    "    for col in num_cols:\n",
    "        Q1 = data[col].quantile(0.25)\n",
    "        Q3 = data[col].quantile(0.75)\n",
    "        IQR = Q3 - Q1\n",
    "        margin = threshold * IQR\n",
    "        lower = Q1 - margin\n",
    "        upper = Q3 + margin\n",
    "        potential_outliers[col] = ~data[col].between(lower, upper)\n",
    "        \n",
    "    outliers = potential_outliers.any(axis=1)\n",
    "    return data[~outliers]"
   ]
  },
  {
   "cell_type": "markdown",
   "id": "7e97212d-c185-4e56-b748-f96a7e5dacaf",
   "metadata": {},
   "source": [
    "Объединяем исходные данные в одну таблицу"
   ]
  },
  {
   "cell_type": "code",
   "execution_count": 17,
   "id": "41f19025",
   "metadata": {},
   "outputs": [],
   "source": [
    "data_1 = extract(dst_conn)\n",
    "dst_conn.dispose()"
   ]
  },
  {
   "cell_type": "code",
   "execution_count": 18,
   "id": "0a07b8e4",
   "metadata": {},
   "outputs": [
    {
     "data": {
      "text/html": [
       "<div>\n",
       "<style scoped>\n",
       "    .dataframe tbody tr th:only-of-type {\n",
       "        vertical-align: middle;\n",
       "    }\n",
       "\n",
       "    .dataframe tbody tr th {\n",
       "        vertical-align: top;\n",
       "    }\n",
       "\n",
       "    .dataframe thead th {\n",
       "        text-align: right;\n",
       "    }\n",
       "</style>\n",
       "<table border=\"1\" class=\"dataframe\">\n",
       "  <thead>\n",
       "    <tr style=\"text-align: right;\">\n",
       "      <th></th>\n",
       "      <th>id</th>\n",
       "      <th>floor</th>\n",
       "      <th>kitchen_area</th>\n",
       "      <th>living_area</th>\n",
       "      <th>rooms</th>\n",
       "      <th>is_apartment</th>\n",
       "      <th>studio</th>\n",
       "      <th>total_area</th>\n",
       "      <th>price</th>\n",
       "      <th>build_year</th>\n",
       "      <th>building_type_int</th>\n",
       "      <th>latitude</th>\n",
       "      <th>longitude</th>\n",
       "      <th>ceiling_height</th>\n",
       "      <th>flats_count</th>\n",
       "      <th>floors_total</th>\n",
       "      <th>has_elevator</th>\n",
       "    </tr>\n",
       "  </thead>\n",
       "  <tbody>\n",
       "    <tr>\n",
       "      <th>0</th>\n",
       "      <td>0</td>\n",
       "      <td>9</td>\n",
       "      <td>9.9</td>\n",
       "      <td>19.900000</td>\n",
       "      <td>1</td>\n",
       "      <td>False</td>\n",
       "      <td>False</td>\n",
       "      <td>35.099998</td>\n",
       "      <td>9500000</td>\n",
       "      <td>1965</td>\n",
       "      <td>6</td>\n",
       "      <td>55.717113</td>\n",
       "      <td>37.781120</td>\n",
       "      <td>2.64</td>\n",
       "      <td>84</td>\n",
       "      <td>12</td>\n",
       "      <td>True</td>\n",
       "    </tr>\n",
       "    <tr>\n",
       "      <th>1</th>\n",
       "      <td>1</td>\n",
       "      <td>7</td>\n",
       "      <td>0.0</td>\n",
       "      <td>16.600000</td>\n",
       "      <td>1</td>\n",
       "      <td>False</td>\n",
       "      <td>False</td>\n",
       "      <td>43.000000</td>\n",
       "      <td>13500000</td>\n",
       "      <td>2001</td>\n",
       "      <td>2</td>\n",
       "      <td>55.794849</td>\n",
       "      <td>37.608013</td>\n",
       "      <td>3.00</td>\n",
       "      <td>97</td>\n",
       "      <td>10</td>\n",
       "      <td>True</td>\n",
       "    </tr>\n",
       "    <tr>\n",
       "      <th>2</th>\n",
       "      <td>2</td>\n",
       "      <td>9</td>\n",
       "      <td>9.0</td>\n",
       "      <td>32.000000</td>\n",
       "      <td>2</td>\n",
       "      <td>False</td>\n",
       "      <td>False</td>\n",
       "      <td>56.000000</td>\n",
       "      <td>13500000</td>\n",
       "      <td>2000</td>\n",
       "      <td>4</td>\n",
       "      <td>55.740040</td>\n",
       "      <td>37.761742</td>\n",
       "      <td>2.70</td>\n",
       "      <td>80</td>\n",
       "      <td>10</td>\n",
       "      <td>True</td>\n",
       "    </tr>\n",
       "    <tr>\n",
       "      <th>3</th>\n",
       "      <td>3</td>\n",
       "      <td>1</td>\n",
       "      <td>10.1</td>\n",
       "      <td>43.099998</td>\n",
       "      <td>3</td>\n",
       "      <td>False</td>\n",
       "      <td>False</td>\n",
       "      <td>76.000000</td>\n",
       "      <td>20000000</td>\n",
       "      <td>2002</td>\n",
       "      <td>4</td>\n",
       "      <td>55.672016</td>\n",
       "      <td>37.570877</td>\n",
       "      <td>2.64</td>\n",
       "      <td>771</td>\n",
       "      <td>17</td>\n",
       "      <td>True</td>\n",
       "    </tr>\n",
       "    <tr>\n",
       "      <th>4</th>\n",
       "      <td>4</td>\n",
       "      <td>3</td>\n",
       "      <td>3.0</td>\n",
       "      <td>14.000000</td>\n",
       "      <td>1</td>\n",
       "      <td>False</td>\n",
       "      <td>False</td>\n",
       "      <td>24.000000</td>\n",
       "      <td>5200000</td>\n",
       "      <td>1971</td>\n",
       "      <td>1</td>\n",
       "      <td>55.808807</td>\n",
       "      <td>37.707306</td>\n",
       "      <td>2.60</td>\n",
       "      <td>208</td>\n",
       "      <td>9</td>\n",
       "      <td>True</td>\n",
       "    </tr>\n",
       "  </tbody>\n",
       "</table>\n",
       "</div>"
      ],
      "text/plain": [
       "   id  floor  kitchen_area  living_area  rooms  is_apartment  studio  \\\n",
       "0   0      9           9.9    19.900000      1         False   False   \n",
       "1   1      7           0.0    16.600000      1         False   False   \n",
       "2   2      9           9.0    32.000000      2         False   False   \n",
       "3   3      1          10.1    43.099998      3         False   False   \n",
       "4   4      3           3.0    14.000000      1         False   False   \n",
       "\n",
       "   total_area     price  build_year  building_type_int   latitude  longitude  \\\n",
       "0   35.099998   9500000        1965                  6  55.717113  37.781120   \n",
       "1   43.000000  13500000        2001                  2  55.794849  37.608013   \n",
       "2   56.000000  13500000        2000                  4  55.740040  37.761742   \n",
       "3   76.000000  20000000        2002                  4  55.672016  37.570877   \n",
       "4   24.000000   5200000        1971                  1  55.808807  37.707306   \n",
       "\n",
       "   ceiling_height  flats_count  floors_total  has_elevator  \n",
       "0            2.64           84            12          True  \n",
       "1            3.00           97            10          True  \n",
       "2            2.70           80            10          True  \n",
       "3            2.64          771            17          True  \n",
       "4            2.60          208             9          True  "
      ]
     },
     "execution_count": 18,
     "metadata": {},
     "output_type": "execute_result"
    }
   ],
   "source": [
    "data_1.head()"
   ]
  },
  {
   "cell_type": "code",
   "execution_count": 24,
   "id": "31cdd6d7-3888-4aaa-b516-6033cab81f93",
   "metadata": {},
   "outputs": [
    {
     "data": {
      "text/plain": [
       "(141362, 18)"
      ]
     },
     "execution_count": 24,
     "metadata": {},
     "output_type": "execute_result"
    }
   ],
   "source": [
    "data_1.shape"
   ]
  },
  {
   "cell_type": "markdown",
   "id": "25098f46-321d-470b-b85c-9abca0507316",
   "metadata": {},
   "source": [
    "Меняем тип булевских столбцов на integer, переименовываем id квартир на flat_id и добавляем новый target"
   ]
  },
  {
   "cell_type": "code",
   "execution_count": 19,
   "id": "39e99a1a",
   "metadata": {},
   "outputs": [],
   "source": [
    "data_2 = transform(data_1)"
   ]
  },
  {
   "cell_type": "code",
   "execution_count": 31,
   "id": "12e9eabd",
   "metadata": {},
   "outputs": [
    {
     "data": {
      "text/html": [
       "<div>\n",
       "<style scoped>\n",
       "    .dataframe tbody tr th:only-of-type {\n",
       "        vertical-align: middle;\n",
       "    }\n",
       "\n",
       "    .dataframe tbody tr th {\n",
       "        vertical-align: top;\n",
       "    }\n",
       "\n",
       "    .dataframe thead th {\n",
       "        text-align: right;\n",
       "    }\n",
       "</style>\n",
       "<table border=\"1\" class=\"dataframe\">\n",
       "  <thead>\n",
       "    <tr style=\"text-align: right;\">\n",
       "      <th></th>\n",
       "      <th>flat_id</th>\n",
       "      <th>floor</th>\n",
       "      <th>kitchen_area</th>\n",
       "      <th>living_area</th>\n",
       "      <th>rooms</th>\n",
       "      <th>is_apartment</th>\n",
       "      <th>studio</th>\n",
       "      <th>total_area</th>\n",
       "      <th>price</th>\n",
       "      <th>build_year</th>\n",
       "      <th>building_type_int</th>\n",
       "      <th>latitude</th>\n",
       "      <th>longitude</th>\n",
       "      <th>ceiling_height</th>\n",
       "      <th>flats_count</th>\n",
       "      <th>floors_total</th>\n",
       "      <th>has_elevator</th>\n",
       "      <th>target</th>\n",
       "    </tr>\n",
       "  </thead>\n",
       "  <tbody>\n",
       "    <tr>\n",
       "      <th>0</th>\n",
       "      <td>0</td>\n",
       "      <td>9</td>\n",
       "      <td>9.9</td>\n",
       "      <td>19.900000</td>\n",
       "      <td>1</td>\n",
       "      <td>0</td>\n",
       "      <td>0</td>\n",
       "      <td>35.099998</td>\n",
       "      <td>9500000</td>\n",
       "      <td>1965</td>\n",
       "      <td>6</td>\n",
       "      <td>55.717113</td>\n",
       "      <td>37.781120</td>\n",
       "      <td>2.64</td>\n",
       "      <td>84</td>\n",
       "      <td>12</td>\n",
       "      <td>1</td>\n",
       "      <td>16.066802</td>\n",
       "    </tr>\n",
       "    <tr>\n",
       "      <th>1</th>\n",
       "      <td>1</td>\n",
       "      <td>7</td>\n",
       "      <td>0.0</td>\n",
       "      <td>16.600000</td>\n",
       "      <td>1</td>\n",
       "      <td>0</td>\n",
       "      <td>0</td>\n",
       "      <td>43.000000</td>\n",
       "      <td>13500000</td>\n",
       "      <td>2001</td>\n",
       "      <td>2</td>\n",
       "      <td>55.794849</td>\n",
       "      <td>37.608013</td>\n",
       "      <td>3.00</td>\n",
       "      <td>97</td>\n",
       "      <td>10</td>\n",
       "      <td>1</td>\n",
       "      <td>16.418200</td>\n",
       "    </tr>\n",
       "    <tr>\n",
       "      <th>2</th>\n",
       "      <td>2</td>\n",
       "      <td>9</td>\n",
       "      <td>9.0</td>\n",
       "      <td>32.000000</td>\n",
       "      <td>2</td>\n",
       "      <td>0</td>\n",
       "      <td>0</td>\n",
       "      <td>56.000000</td>\n",
       "      <td>13500000</td>\n",
       "      <td>2000</td>\n",
       "      <td>4</td>\n",
       "      <td>55.740040</td>\n",
       "      <td>37.761742</td>\n",
       "      <td>2.70</td>\n",
       "      <td>80</td>\n",
       "      <td>10</td>\n",
       "      <td>1</td>\n",
       "      <td>16.418200</td>\n",
       "    </tr>\n",
       "    <tr>\n",
       "      <th>3</th>\n",
       "      <td>3</td>\n",
       "      <td>1</td>\n",
       "      <td>10.1</td>\n",
       "      <td>43.099998</td>\n",
       "      <td>3</td>\n",
       "      <td>0</td>\n",
       "      <td>0</td>\n",
       "      <td>76.000000</td>\n",
       "      <td>20000000</td>\n",
       "      <td>2002</td>\n",
       "      <td>4</td>\n",
       "      <td>55.672016</td>\n",
       "      <td>37.570877</td>\n",
       "      <td>2.64</td>\n",
       "      <td>771</td>\n",
       "      <td>17</td>\n",
       "      <td>1</td>\n",
       "      <td>16.811243</td>\n",
       "    </tr>\n",
       "    <tr>\n",
       "      <th>4</th>\n",
       "      <td>4</td>\n",
       "      <td>3</td>\n",
       "      <td>3.0</td>\n",
       "      <td>14.000000</td>\n",
       "      <td>1</td>\n",
       "      <td>0</td>\n",
       "      <td>0</td>\n",
       "      <td>24.000000</td>\n",
       "      <td>5200000</td>\n",
       "      <td>1971</td>\n",
       "      <td>1</td>\n",
       "      <td>55.808807</td>\n",
       "      <td>37.707306</td>\n",
       "      <td>2.60</td>\n",
       "      <td>208</td>\n",
       "      <td>9</td>\n",
       "      <td>1</td>\n",
       "      <td>15.464169</td>\n",
       "    </tr>\n",
       "  </tbody>\n",
       "</table>\n",
       "</div>"
      ],
      "text/plain": [
       "   flat_id  floor  kitchen_area  living_area  rooms  is_apartment  studio  \\\n",
       "0        0      9           9.9    19.900000      1             0       0   \n",
       "1        1      7           0.0    16.600000      1             0       0   \n",
       "2        2      9           9.0    32.000000      2             0       0   \n",
       "3        3      1          10.1    43.099998      3             0       0   \n",
       "4        4      3           3.0    14.000000      1             0       0   \n",
       "\n",
       "   total_area     price  build_year  building_type_int   latitude  longitude  \\\n",
       "0   35.099998   9500000        1965                  6  55.717113  37.781120   \n",
       "1   43.000000  13500000        2001                  2  55.794849  37.608013   \n",
       "2   56.000000  13500000        2000                  4  55.740040  37.761742   \n",
       "3   76.000000  20000000        2002                  4  55.672016  37.570877   \n",
       "4   24.000000   5200000        1971                  1  55.808807  37.707306   \n",
       "\n",
       "   ceiling_height  flats_count  floors_total  has_elevator     target  \n",
       "0            2.64           84            12             1  16.066802  \n",
       "1            3.00           97            10             1  16.418200  \n",
       "2            2.70           80            10             1  16.418200  \n",
       "3            2.64          771            17             1  16.811243  \n",
       "4            2.60          208             9             1  15.464169  "
      ]
     },
     "execution_count": 31,
     "metadata": {},
     "output_type": "execute_result"
    }
   ],
   "source": [
    "data_2.head()"
   ]
  },
  {
   "cell_type": "code",
   "execution_count": 43,
   "id": "03e9ced4-3702-48a1-9626-c5beb2d79b90",
   "metadata": {},
   "outputs": [
    {
     "data": {
      "text/plain": [
       "(141362, 18)"
      ]
     },
     "execution_count": 43,
     "metadata": {},
     "output_type": "execute_result"
    }
   ],
   "source": [
    "data_2.shape"
   ]
  },
  {
   "cell_type": "markdown",
   "id": "148b5ce7-dbc3-4cb0-9e2e-962e18e5aa33",
   "metadata": {},
   "source": [
    "Проверяем наличие дубликатов"
   ]
  },
  {
   "cell_type": "code",
   "execution_count": 50,
   "id": "9e9c9bca-928c-43d7-9eb1-eeb5f513d819",
   "metadata": {},
   "outputs": [
    {
     "name": "stdout",
     "output_type": "stream",
     "text": [
      "Кол-во строк-дубликатов:  17425\n"
     ]
    }
   ],
   "source": [
    "cols_to_check = data_2.columns.drop(['flat_id']).tolist()\n",
    "duplicated_rows = data_2.duplicated(subset=cols_to_check, keep=False)\n",
    "duplicated_data = data_2[duplicated_rows]\n",
    "print('Кол-во строк-дубликатов: ', len(duplicated_data))"
   ]
  },
  {
   "cell_type": "markdown",
   "id": "c9877300-5043-4e6f-9027-bc4c51d0c429",
   "metadata": {},
   "source": [
    "Удаляем дубликаты"
   ]
  },
  {
   "cell_type": "code",
   "execution_count": 52,
   "id": "4feff9f8",
   "metadata": {},
   "outputs": [],
   "source": [
    "data_3 = remove_duplicates(data_2)"
   ]
  },
  {
   "cell_type": "code",
   "execution_count": 59,
   "id": "0fafb667-d25d-421c-be40-a086ab860116",
   "metadata": {},
   "outputs": [
    {
     "data": {
      "text/plain": [
       "(123937, 18)"
      ]
     },
     "execution_count": 59,
     "metadata": {},
     "output_type": "execute_result"
    }
   ],
   "source": [
    "data_3.shape"
   ]
  },
  {
   "cell_type": "markdown",
   "id": "adfa6dd3-c1c1-4180-b04f-97836ea7fca8",
   "metadata": {},
   "source": [
    "Проверяем наличие пропусков данных"
   ]
  },
  {
   "cell_type": "code",
   "execution_count": 60,
   "id": "2097906d",
   "metadata": {},
   "outputs": [
    {
     "data": {
      "text/plain": [
       "flat_id              0\n",
       "floor                0\n",
       "kitchen_area         0\n",
       "living_area          0\n",
       "rooms                0\n",
       "is_apartment         0\n",
       "studio               0\n",
       "total_area           0\n",
       "price                0\n",
       "build_year           0\n",
       "building_type_int    0\n",
       "latitude             0\n",
       "longitude            0\n",
       "ceiling_height       0\n",
       "flats_count          0\n",
       "floors_total         0\n",
       "has_elevator         0\n",
       "target               0\n",
       "dtype: int64"
      ]
     },
     "execution_count": 60,
     "metadata": {},
     "output_type": "execute_result"
    }
   ],
   "source": [
    "data_3.isnull().sum()"
   ]
  },
  {
   "cell_type": "code",
   "execution_count": 62,
   "id": "0dc405a5",
   "metadata": {},
   "outputs": [],
   "source": [
    "data_4 = fill_missing_values(data_3)"
   ]
  },
  {
   "cell_type": "code",
   "execution_count": 63,
   "id": "076a798c",
   "metadata": {},
   "outputs": [
    {
     "data": {
      "text/plain": [
       "(123937, 18)"
      ]
     },
     "execution_count": 63,
     "metadata": {},
     "output_type": "execute_result"
    }
   ],
   "source": [
    "data_4.shape"
   ]
  },
  {
   "cell_type": "markdown",
   "id": "0f8fb470-2f04-4902-b0db-b3ea5d396819",
   "metadata": {},
   "source": [
    "Удаляем строки с выбросами у вещественных признаков"
   ]
  },
  {
   "cell_type": "code",
   "execution_count": 65,
   "id": "3d2fab91-c15e-4d23-8f32-43f91f472d9a",
   "metadata": {},
   "outputs": [],
   "source": [
    "data_5 = remove_outliers(data_4)"
   ]
  },
  {
   "cell_type": "code",
   "execution_count": 66,
   "id": "199f80da-60a5-4968-8183-08476e5aaa65",
   "metadata": {},
   "outputs": [
    {
     "data": {
      "text/plain": [
       "(106341, 18)"
      ]
     },
     "execution_count": 66,
     "metadata": {},
     "output_type": "execute_result"
    }
   ],
   "source": [
    "data_5.shape"
   ]
  }
 ],
 "metadata": {
  "kernelspec": {
   "display_name": "Python 3 (ipykernel)",
   "language": "python",
   "name": "python3"
  },
  "language_info": {
   "codemirror_mode": {
    "name": "ipython",
    "version": 3
   },
   "file_extension": ".py",
   "mimetype": "text/x-python",
   "name": "python",
   "nbconvert_exporter": "python",
   "pygments_lexer": "ipython3",
   "version": "3.11.7"
  }
 },
 "nbformat": 4,
 "nbformat_minor": 5
}
