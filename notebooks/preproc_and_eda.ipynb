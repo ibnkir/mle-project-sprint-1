{
 "cells": [
  {
   "cell_type": "markdown",
   "id": "709ba5dd-2a91-4544-9560-4800ff04aac2",
   "metadata": {},
   "source": [
    "## Предобработка и исследование данных"
   ]
  },
  {
   "cell_type": "code",
   "execution_count": 1,
   "id": "289bebfc",
   "metadata": {},
   "outputs": [],
   "source": [
    "import pandas as pd\n",
    "import numpy as np\n",
    "import sqlalchemy\n",
    "from sqlalchemy import create_engine\n",
    "import os\n",
    "from dotenv import load_dotenv\n",
    "from scipy.stats import pearsonr\n",
    "import matplotlib.pyplot as plt"
   ]
  },
  {
   "cell_type": "code",
   "execution_count": 2,
   "id": "a1f17e1b",
   "metadata": {},
   "outputs": [],
   "source": [
    "%load_ext autoreload\n",
    "%autoreload 2"
   ]
  },
  {
   "cell_type": "code",
   "execution_count": 3,
   "id": "1a61fbdb",
   "metadata": {},
   "outputs": [
    {
     "data": {
      "text/plain": [
       "True"
      ]
     },
     "execution_count": 3,
     "metadata": {},
     "output_type": "execute_result"
    }
   ],
   "source": [
    "load_dotenv()"
   ]
  },
  {
   "cell_type": "code",
   "execution_count": 4,
   "id": "ce36044d",
   "metadata": {},
   "outputs": [],
   "source": [
    "dst_host = os.environ.get('DB_DESTINATION_HOST')\n",
    "dst_port = os.environ.get('DB_DESTINATION_PORT')\n",
    "dst_username = os.environ.get('DB_DESTINATION_USER')\n",
    "dst_password = os.environ.get('DB_DESTINATION_PASSWORD')\n",
    "dst_db = os.environ.get('DB_DESTINATION_NAME')"
   ]
  },
  {
   "cell_type": "code",
   "execution_count": 5,
   "id": "0a00202a",
   "metadata": {},
   "outputs": [],
   "source": [
    "dst_conn = create_engine(f'postgresql://{dst_username}:{dst_password}@{dst_host}:{dst_port}/{dst_db}')"
   ]
  },
  {
   "cell_type": "markdown",
   "id": "1e266686",
   "metadata": {},
   "source": [
    "### 1. Функции предобработки данных"
   ]
  },
  {
   "cell_type": "code",
   "execution_count": 6,
   "id": "c5b397dc",
   "metadata": {},
   "outputs": [],
   "source": [
    "# Извелечение и объединение исходных данных\n",
    "\n",
    "def extract(conn):\n",
    "    sql = f\"\"\"\n",
    "        select\n",
    "            f.id, f.floor, f.kitchen_area, f.living_area, f.rooms, f.is_apartment, f.studio, f.total_area, f.price,\n",
    "            b.build_year, b.building_type_int, b.latitude, b.longitude, b.ceiling_height, b.flats_count, b.floors_total, b.has_elevator\n",
    "        from flats as f\n",
    "        left join buildings as b on f.building_id = b.id\n",
    "        \"\"\"\n",
    "\n",
    "    data = pd.read_sql(sql, conn)\n",
    "    return data"
   ]
  },
  {
   "cell_type": "code",
   "execution_count": 7,
   "id": "00fe8bab",
   "metadata": {},
   "outputs": [],
   "source": [
    "# Предварительная трансформация объединенной таблицы\n",
    "\n",
    "def transform(data):\n",
    "    # Переименовываем колонку id у квартир на flat_id (т.к. id - это индексная колонка в БД)\n",
    "    data.rename(columns={'id': 'flat_id'}, inplace=True)\n",
    "    \n",
    "    # Удаляем строки с пустыми, отрицательными и нулевыми ценами\n",
    "    data = data[~(data['price'].isnull() | (data['price'] <= 0))]\n",
    "    \n",
    "    # Добавляем target = ln(1 + price)\n",
    "    data['target'] = np.log1p(data['price'])\n",
    "    \n",
    "    return data"
   ]
  },
  {
   "cell_type": "code",
   "execution_count": 8,
   "id": "3ed9d807",
   "metadata": {},
   "outputs": [],
   "source": [
    "# Удаление строк-дубликатов\n",
    "\n",
    "def remove_duplicates(data):\n",
    "    cols_to_check = data.columns.drop(['flat_id']).tolist()\n",
    "    duplicated_rows = data.duplicated(subset=cols_to_check, keep=False)\n",
    "    data = data[~duplicated_rows].reset_index(drop=True)\n",
    "    return data"
   ]
  },
  {
   "cell_type": "code",
   "execution_count": 9,
   "id": "17759227",
   "metadata": {},
   "outputs": [],
   "source": [
    "# Заполнение пропусков в признаках\n",
    "\n",
    "def fill_missing_values(data):\n",
    "    cols_with_nans = data.isnull().sum()\n",
    "    cols_with_nans = cols_with_nans[cols_with_nans > 0].index\n",
    "    \n",
    "    # 1. В колонке flat_id не может быть пропусков, т.к. она была индексом в исходной таблице flats\n",
    "    # 2. В цикл не попадают колонки price и target, т.к. ранее мы уже удалили строки с пустыми ценами\n",
    "    for col in cols_with_nans:\n",
    "        if data[col].dtype in ['float']:\n",
    "            fill_value = data[col].mean()\n",
    "        elif data[col].dtype in ['int', 'bool', 'object']:\n",
    "            fill_value = data[col].mode().iloc[0]\n",
    "        \n",
    "        data[col].fillna(value=fill_value, inplace=True)\n",
    "    \n",
    "    return data"
   ]
  },
  {
   "cell_type": "code",
   "execution_count": 10,
   "id": "538518e9",
   "metadata": {},
   "outputs": [],
   "source": [
    "# Удаление строк с выбросами у количественных признаков\n",
    "\n",
    "def remove_outliers(data):\n",
    "    num_cols = data.select_dtypes(['int', 'float']).drop(\n",
    "        columns=['flat_id', 'building_type_int', 'price', 'target']\n",
    "    ).columns\n",
    "    threshold = 1.5\n",
    "    potential_outliers = pd.DataFrame()\n",
    "    \n",
    "    for col in num_cols:\n",
    "        Q1 = data[col].quantile(0.25)\n",
    "        Q3 = data[col].quantile(0.75)\n",
    "        IQR = Q3 - Q1\n",
    "        margin = threshold * IQR\n",
    "        lower = Q1 - margin\n",
    "        upper = Q3 + margin\n",
    "        potential_outliers[col] = ~data[col].between(lower, upper)\n",
    "        \n",
    "    outliers = potential_outliers.any(axis=1)\n",
    "    return data[~outliers]"
   ]
  },
  {
   "cell_type": "markdown",
   "id": "97fcae40",
   "metadata": {},
   "source": [
    "### 2. Проводим предобработку данных"
   ]
  },
  {
   "cell_type": "markdown",
   "id": "7e97212d-c185-4e56-b748-f96a7e5dacaf",
   "metadata": {},
   "source": [
    "Объединяем исходные данные в одну таблицу"
   ]
  },
  {
   "cell_type": "code",
   "execution_count": 11,
   "id": "41f19025",
   "metadata": {},
   "outputs": [],
   "source": [
    "data_1 = extract(dst_conn)"
   ]
  },
  {
   "cell_type": "code",
   "execution_count": 12,
   "id": "0a07b8e4",
   "metadata": {},
   "outputs": [
    {
     "data": {
      "text/html": [
       "<div>\n",
       "<style scoped>\n",
       "    .dataframe tbody tr th:only-of-type {\n",
       "        vertical-align: middle;\n",
       "    }\n",
       "\n",
       "    .dataframe tbody tr th {\n",
       "        vertical-align: top;\n",
       "    }\n",
       "\n",
       "    .dataframe thead th {\n",
       "        text-align: right;\n",
       "    }\n",
       "</style>\n",
       "<table border=\"1\" class=\"dataframe\">\n",
       "  <thead>\n",
       "    <tr style=\"text-align: right;\">\n",
       "      <th></th>\n",
       "      <th>id</th>\n",
       "      <th>floor</th>\n",
       "      <th>kitchen_area</th>\n",
       "      <th>living_area</th>\n",
       "      <th>rooms</th>\n",
       "      <th>is_apartment</th>\n",
       "      <th>studio</th>\n",
       "      <th>total_area</th>\n",
       "      <th>price</th>\n",
       "      <th>build_year</th>\n",
       "      <th>building_type_int</th>\n",
       "      <th>latitude</th>\n",
       "      <th>longitude</th>\n",
       "      <th>ceiling_height</th>\n",
       "      <th>flats_count</th>\n",
       "      <th>floors_total</th>\n",
       "      <th>has_elevator</th>\n",
       "    </tr>\n",
       "  </thead>\n",
       "  <tbody>\n",
       "    <tr>\n",
       "      <th>0</th>\n",
       "      <td>0</td>\n",
       "      <td>9</td>\n",
       "      <td>9.9</td>\n",
       "      <td>19.900000</td>\n",
       "      <td>1</td>\n",
       "      <td>False</td>\n",
       "      <td>False</td>\n",
       "      <td>35.099998</td>\n",
       "      <td>9500000</td>\n",
       "      <td>1965</td>\n",
       "      <td>6</td>\n",
       "      <td>55.717113</td>\n",
       "      <td>37.781120</td>\n",
       "      <td>2.64</td>\n",
       "      <td>84</td>\n",
       "      <td>12</td>\n",
       "      <td>True</td>\n",
       "    </tr>\n",
       "    <tr>\n",
       "      <th>1</th>\n",
       "      <td>1</td>\n",
       "      <td>7</td>\n",
       "      <td>0.0</td>\n",
       "      <td>16.600000</td>\n",
       "      <td>1</td>\n",
       "      <td>False</td>\n",
       "      <td>False</td>\n",
       "      <td>43.000000</td>\n",
       "      <td>13500000</td>\n",
       "      <td>2001</td>\n",
       "      <td>2</td>\n",
       "      <td>55.794849</td>\n",
       "      <td>37.608013</td>\n",
       "      <td>3.00</td>\n",
       "      <td>97</td>\n",
       "      <td>10</td>\n",
       "      <td>True</td>\n",
       "    </tr>\n",
       "    <tr>\n",
       "      <th>2</th>\n",
       "      <td>2</td>\n",
       "      <td>9</td>\n",
       "      <td>9.0</td>\n",
       "      <td>32.000000</td>\n",
       "      <td>2</td>\n",
       "      <td>False</td>\n",
       "      <td>False</td>\n",
       "      <td>56.000000</td>\n",
       "      <td>13500000</td>\n",
       "      <td>2000</td>\n",
       "      <td>4</td>\n",
       "      <td>55.740040</td>\n",
       "      <td>37.761742</td>\n",
       "      <td>2.70</td>\n",
       "      <td>80</td>\n",
       "      <td>10</td>\n",
       "      <td>True</td>\n",
       "    </tr>\n",
       "    <tr>\n",
       "      <th>3</th>\n",
       "      <td>3</td>\n",
       "      <td>1</td>\n",
       "      <td>10.1</td>\n",
       "      <td>43.099998</td>\n",
       "      <td>3</td>\n",
       "      <td>False</td>\n",
       "      <td>False</td>\n",
       "      <td>76.000000</td>\n",
       "      <td>20000000</td>\n",
       "      <td>2002</td>\n",
       "      <td>4</td>\n",
       "      <td>55.672016</td>\n",
       "      <td>37.570877</td>\n",
       "      <td>2.64</td>\n",
       "      <td>771</td>\n",
       "      <td>17</td>\n",
       "      <td>True</td>\n",
       "    </tr>\n",
       "    <tr>\n",
       "      <th>4</th>\n",
       "      <td>4</td>\n",
       "      <td>3</td>\n",
       "      <td>3.0</td>\n",
       "      <td>14.000000</td>\n",
       "      <td>1</td>\n",
       "      <td>False</td>\n",
       "      <td>False</td>\n",
       "      <td>24.000000</td>\n",
       "      <td>5200000</td>\n",
       "      <td>1971</td>\n",
       "      <td>1</td>\n",
       "      <td>55.808807</td>\n",
       "      <td>37.707306</td>\n",
       "      <td>2.60</td>\n",
       "      <td>208</td>\n",
       "      <td>9</td>\n",
       "      <td>True</td>\n",
       "    </tr>\n",
       "  </tbody>\n",
       "</table>\n",
       "</div>"
      ],
      "text/plain": [
       "   id  floor  kitchen_area  living_area  rooms  is_apartment  studio  \\\n",
       "0   0      9           9.9    19.900000      1         False   False   \n",
       "1   1      7           0.0    16.600000      1         False   False   \n",
       "2   2      9           9.0    32.000000      2         False   False   \n",
       "3   3      1          10.1    43.099998      3         False   False   \n",
       "4   4      3           3.0    14.000000      1         False   False   \n",
       "\n",
       "   total_area     price  build_year  building_type_int   latitude  longitude  \\\n",
       "0   35.099998   9500000        1965                  6  55.717113  37.781120   \n",
       "1   43.000000  13500000        2001                  2  55.794849  37.608013   \n",
       "2   56.000000  13500000        2000                  4  55.740040  37.761742   \n",
       "3   76.000000  20000000        2002                  4  55.672016  37.570877   \n",
       "4   24.000000   5200000        1971                  1  55.808807  37.707306   \n",
       "\n",
       "   ceiling_height  flats_count  floors_total  has_elevator  \n",
       "0            2.64           84            12          True  \n",
       "1            3.00           97            10          True  \n",
       "2            2.70           80            10          True  \n",
       "3            2.64          771            17          True  \n",
       "4            2.60          208             9          True  "
      ]
     },
     "execution_count": 12,
     "metadata": {},
     "output_type": "execute_result"
    }
   ],
   "source": [
    "data_1.head()"
   ]
  },
  {
   "cell_type": "code",
   "execution_count": 13,
   "id": "31cdd6d7-3888-4aaa-b516-6033cab81f93",
   "metadata": {},
   "outputs": [
    {
     "data": {
      "text/plain": [
       "(141362, 17)"
      ]
     },
     "execution_count": 13,
     "metadata": {},
     "output_type": "execute_result"
    }
   ],
   "source": [
    "data_1.shape"
   ]
  },
  {
   "cell_type": "code",
   "execution_count": 14,
   "id": "06331400",
   "metadata": {},
   "outputs": [
    {
     "name": "stdout",
     "output_type": "stream",
     "text": [
      "<class 'pandas.core.frame.DataFrame'>\n",
      "RangeIndex: 141362 entries, 0 to 141361\n",
      "Data columns (total 17 columns):\n",
      " #   Column             Non-Null Count   Dtype  \n",
      "---  ------             --------------   -----  \n",
      " 0   id                 141362 non-null  int64  \n",
      " 1   floor              141362 non-null  int64  \n",
      " 2   kitchen_area       141362 non-null  float64\n",
      " 3   living_area        141362 non-null  float64\n",
      " 4   rooms              141362 non-null  int64  \n",
      " 5   is_apartment       141362 non-null  bool   \n",
      " 6   studio             141362 non-null  bool   \n",
      " 7   total_area         141362 non-null  float64\n",
      " 8   price              141362 non-null  int64  \n",
      " 9   build_year         141362 non-null  int64  \n",
      " 10  building_type_int  141362 non-null  int64  \n",
      " 11  latitude           141362 non-null  float64\n",
      " 12  longitude          141362 non-null  float64\n",
      " 13  ceiling_height     141362 non-null  float64\n",
      " 14  flats_count        141362 non-null  int64  \n",
      " 15  floors_total       141362 non-null  int64  \n",
      " 16  has_elevator       141362 non-null  bool   \n",
      "dtypes: bool(3), float64(6), int64(8)\n",
      "memory usage: 15.5 MB\n"
     ]
    }
   ],
   "source": [
    "data_1.info()"
   ]
  },
  {
   "cell_type": "markdown",
   "id": "25098f46-321d-470b-b85c-9abca0507316",
   "metadata": {},
   "source": [
    "Переименовываем id квартир на flat_id и добавляем новый target"
   ]
  },
  {
   "cell_type": "code",
   "execution_count": 15,
   "id": "39e99a1a",
   "metadata": {},
   "outputs": [],
   "source": [
    "data_2 = transform(data_1)"
   ]
  },
  {
   "cell_type": "code",
   "execution_count": 16,
   "id": "12e9eabd",
   "metadata": {},
   "outputs": [
    {
     "data": {
      "text/html": [
       "<div>\n",
       "<style scoped>\n",
       "    .dataframe tbody tr th:only-of-type {\n",
       "        vertical-align: middle;\n",
       "    }\n",
       "\n",
       "    .dataframe tbody tr th {\n",
       "        vertical-align: top;\n",
       "    }\n",
       "\n",
       "    .dataframe thead th {\n",
       "        text-align: right;\n",
       "    }\n",
       "</style>\n",
       "<table border=\"1\" class=\"dataframe\">\n",
       "  <thead>\n",
       "    <tr style=\"text-align: right;\">\n",
       "      <th></th>\n",
       "      <th>flat_id</th>\n",
       "      <th>floor</th>\n",
       "      <th>kitchen_area</th>\n",
       "      <th>living_area</th>\n",
       "      <th>rooms</th>\n",
       "      <th>is_apartment</th>\n",
       "      <th>studio</th>\n",
       "      <th>total_area</th>\n",
       "      <th>price</th>\n",
       "      <th>build_year</th>\n",
       "      <th>building_type_int</th>\n",
       "      <th>latitude</th>\n",
       "      <th>longitude</th>\n",
       "      <th>ceiling_height</th>\n",
       "      <th>flats_count</th>\n",
       "      <th>floors_total</th>\n",
       "      <th>has_elevator</th>\n",
       "      <th>target</th>\n",
       "    </tr>\n",
       "  </thead>\n",
       "  <tbody>\n",
       "    <tr>\n",
       "      <th>0</th>\n",
       "      <td>0</td>\n",
       "      <td>9</td>\n",
       "      <td>9.9</td>\n",
       "      <td>19.900000</td>\n",
       "      <td>1</td>\n",
       "      <td>False</td>\n",
       "      <td>False</td>\n",
       "      <td>35.099998</td>\n",
       "      <td>9500000</td>\n",
       "      <td>1965</td>\n",
       "      <td>6</td>\n",
       "      <td>55.717113</td>\n",
       "      <td>37.781120</td>\n",
       "      <td>2.64</td>\n",
       "      <td>84</td>\n",
       "      <td>12</td>\n",
       "      <td>True</td>\n",
       "      <td>16.066802</td>\n",
       "    </tr>\n",
       "    <tr>\n",
       "      <th>1</th>\n",
       "      <td>1</td>\n",
       "      <td>7</td>\n",
       "      <td>0.0</td>\n",
       "      <td>16.600000</td>\n",
       "      <td>1</td>\n",
       "      <td>False</td>\n",
       "      <td>False</td>\n",
       "      <td>43.000000</td>\n",
       "      <td>13500000</td>\n",
       "      <td>2001</td>\n",
       "      <td>2</td>\n",
       "      <td>55.794849</td>\n",
       "      <td>37.608013</td>\n",
       "      <td>3.00</td>\n",
       "      <td>97</td>\n",
       "      <td>10</td>\n",
       "      <td>True</td>\n",
       "      <td>16.418200</td>\n",
       "    </tr>\n",
       "    <tr>\n",
       "      <th>2</th>\n",
       "      <td>2</td>\n",
       "      <td>9</td>\n",
       "      <td>9.0</td>\n",
       "      <td>32.000000</td>\n",
       "      <td>2</td>\n",
       "      <td>False</td>\n",
       "      <td>False</td>\n",
       "      <td>56.000000</td>\n",
       "      <td>13500000</td>\n",
       "      <td>2000</td>\n",
       "      <td>4</td>\n",
       "      <td>55.740040</td>\n",
       "      <td>37.761742</td>\n",
       "      <td>2.70</td>\n",
       "      <td>80</td>\n",
       "      <td>10</td>\n",
       "      <td>True</td>\n",
       "      <td>16.418200</td>\n",
       "    </tr>\n",
       "    <tr>\n",
       "      <th>3</th>\n",
       "      <td>3</td>\n",
       "      <td>1</td>\n",
       "      <td>10.1</td>\n",
       "      <td>43.099998</td>\n",
       "      <td>3</td>\n",
       "      <td>False</td>\n",
       "      <td>False</td>\n",
       "      <td>76.000000</td>\n",
       "      <td>20000000</td>\n",
       "      <td>2002</td>\n",
       "      <td>4</td>\n",
       "      <td>55.672016</td>\n",
       "      <td>37.570877</td>\n",
       "      <td>2.64</td>\n",
       "      <td>771</td>\n",
       "      <td>17</td>\n",
       "      <td>True</td>\n",
       "      <td>16.811243</td>\n",
       "    </tr>\n",
       "    <tr>\n",
       "      <th>4</th>\n",
       "      <td>4</td>\n",
       "      <td>3</td>\n",
       "      <td>3.0</td>\n",
       "      <td>14.000000</td>\n",
       "      <td>1</td>\n",
       "      <td>False</td>\n",
       "      <td>False</td>\n",
       "      <td>24.000000</td>\n",
       "      <td>5200000</td>\n",
       "      <td>1971</td>\n",
       "      <td>1</td>\n",
       "      <td>55.808807</td>\n",
       "      <td>37.707306</td>\n",
       "      <td>2.60</td>\n",
       "      <td>208</td>\n",
       "      <td>9</td>\n",
       "      <td>True</td>\n",
       "      <td>15.464169</td>\n",
       "    </tr>\n",
       "  </tbody>\n",
       "</table>\n",
       "</div>"
      ],
      "text/plain": [
       "   flat_id  floor  kitchen_area  living_area  rooms  is_apartment  studio  \\\n",
       "0        0      9           9.9    19.900000      1         False   False   \n",
       "1        1      7           0.0    16.600000      1         False   False   \n",
       "2        2      9           9.0    32.000000      2         False   False   \n",
       "3        3      1          10.1    43.099998      3         False   False   \n",
       "4        4      3           3.0    14.000000      1         False   False   \n",
       "\n",
       "   total_area     price  build_year  building_type_int   latitude  longitude  \\\n",
       "0   35.099998   9500000        1965                  6  55.717113  37.781120   \n",
       "1   43.000000  13500000        2001                  2  55.794849  37.608013   \n",
       "2   56.000000  13500000        2000                  4  55.740040  37.761742   \n",
       "3   76.000000  20000000        2002                  4  55.672016  37.570877   \n",
       "4   24.000000   5200000        1971                  1  55.808807  37.707306   \n",
       "\n",
       "   ceiling_height  flats_count  floors_total  has_elevator     target  \n",
       "0            2.64           84            12          True  16.066802  \n",
       "1            3.00           97            10          True  16.418200  \n",
       "2            2.70           80            10          True  16.418200  \n",
       "3            2.64          771            17          True  16.811243  \n",
       "4            2.60          208             9          True  15.464169  "
      ]
     },
     "execution_count": 16,
     "metadata": {},
     "output_type": "execute_result"
    }
   ],
   "source": [
    "data_2.head()"
   ]
  },
  {
   "cell_type": "code",
   "execution_count": 17,
   "id": "03e9ced4-3702-48a1-9626-c5beb2d79b90",
   "metadata": {},
   "outputs": [
    {
     "data": {
      "text/plain": [
       "(141362, 18)"
      ]
     },
     "execution_count": 17,
     "metadata": {},
     "output_type": "execute_result"
    }
   ],
   "source": [
    "data_2.shape"
   ]
  },
  {
   "cell_type": "markdown",
   "id": "148b5ce7-dbc3-4cb0-9e2e-962e18e5aa33",
   "metadata": {},
   "source": [
    "Проверяем наличие дубликатов"
   ]
  },
  {
   "cell_type": "code",
   "execution_count": 18,
   "id": "9e9c9bca-928c-43d7-9eb1-eeb5f513d819",
   "metadata": {},
   "outputs": [
    {
     "name": "stdout",
     "output_type": "stream",
     "text": [
      "Кол-во строк-дубликатов:  17425\n"
     ]
    }
   ],
   "source": [
    "cols_to_check = data_2.columns.drop(['flat_id']).tolist()\n",
    "duplicated_rows = data_2.duplicated(subset=cols_to_check, keep=False)\n",
    "duplicated_data = data_2[duplicated_rows]\n",
    "print('Кол-во строк-дубликатов: ', len(duplicated_data))"
   ]
  },
  {
   "cell_type": "markdown",
   "id": "c9877300-5043-4e6f-9027-bc4c51d0c429",
   "metadata": {},
   "source": [
    "Удаляем дубликаты"
   ]
  },
  {
   "cell_type": "code",
   "execution_count": 19,
   "id": "4feff9f8",
   "metadata": {},
   "outputs": [],
   "source": [
    "data_3 = remove_duplicates(data_2)"
   ]
  },
  {
   "cell_type": "code",
   "execution_count": 20,
   "id": "0fafb667-d25d-421c-be40-a086ab860116",
   "metadata": {},
   "outputs": [
    {
     "data": {
      "text/plain": [
       "(123937, 18)"
      ]
     },
     "execution_count": 20,
     "metadata": {},
     "output_type": "execute_result"
    }
   ],
   "source": [
    "data_3.shape"
   ]
  },
  {
   "cell_type": "markdown",
   "id": "adfa6dd3-c1c1-4180-b04f-97836ea7fca8",
   "metadata": {},
   "source": [
    "Проверяем и заполняем пропуски в признаковых данных"
   ]
  },
  {
   "cell_type": "code",
   "execution_count": 21,
   "id": "2097906d",
   "metadata": {},
   "outputs": [
    {
     "data": {
      "text/plain": [
       "flat_id              0\n",
       "floor                0\n",
       "kitchen_area         0\n",
       "living_area          0\n",
       "rooms                0\n",
       "is_apartment         0\n",
       "studio               0\n",
       "total_area           0\n",
       "price                0\n",
       "build_year           0\n",
       "building_type_int    0\n",
       "latitude             0\n",
       "longitude            0\n",
       "ceiling_height       0\n",
       "flats_count          0\n",
       "floors_total         0\n",
       "has_elevator         0\n",
       "target               0\n",
       "dtype: int64"
      ]
     },
     "execution_count": 21,
     "metadata": {},
     "output_type": "execute_result"
    }
   ],
   "source": [
    "data_3.isnull().sum()"
   ]
  },
  {
   "cell_type": "code",
   "execution_count": 22,
   "id": "0dc405a5",
   "metadata": {},
   "outputs": [],
   "source": [
    "data_4 = fill_missing_values(data_3)"
   ]
  },
  {
   "cell_type": "code",
   "execution_count": 23,
   "id": "076a798c",
   "metadata": {},
   "outputs": [
    {
     "data": {
      "text/plain": [
       "(123937, 18)"
      ]
     },
     "execution_count": 23,
     "metadata": {},
     "output_type": "execute_result"
    }
   ],
   "source": [
    "data_4.shape"
   ]
  },
  {
   "cell_type": "markdown",
   "id": "0f8fb470-2f04-4902-b0db-b3ea5d396819",
   "metadata": {},
   "source": [
    "Удаляем строки с выбросами у количественных признаков"
   ]
  },
  {
   "cell_type": "code",
   "execution_count": 24,
   "id": "3d2fab91-c15e-4d23-8f32-43f91f472d9a",
   "metadata": {},
   "outputs": [],
   "source": [
    "clean_data = remove_outliers(data_4)"
   ]
  },
  {
   "cell_type": "code",
   "execution_count": 25,
   "id": "199f80da-60a5-4968-8183-08476e5aaa65",
   "metadata": {},
   "outputs": [
    {
     "data": {
      "text/plain": [
       "(99740, 18)"
      ]
     },
     "execution_count": 25,
     "metadata": {},
     "output_type": "execute_result"
    }
   ],
   "source": [
    "clean_data.shape"
   ]
  },
  {
   "cell_type": "markdown",
   "id": "ddb5e047",
   "metadata": {},
   "source": [
    "### 2. Исследование данных (EDA)"
   ]
  },
  {
   "cell_type": "code",
   "execution_count": 26,
   "id": "9cc09610",
   "metadata": {},
   "outputs": [
    {
     "data": {
      "text/html": [
       "<div>\n",
       "<style scoped>\n",
       "    .dataframe tbody tr th:only-of-type {\n",
       "        vertical-align: middle;\n",
       "    }\n",
       "\n",
       "    .dataframe tbody tr th {\n",
       "        vertical-align: top;\n",
       "    }\n",
       "\n",
       "    .dataframe thead th {\n",
       "        text-align: right;\n",
       "    }\n",
       "</style>\n",
       "<table border=\"1\" class=\"dataframe\">\n",
       "  <thead>\n",
       "    <tr style=\"text-align: right;\">\n",
       "      <th></th>\n",
       "      <th>flat_id</th>\n",
       "      <th>floor</th>\n",
       "      <th>kitchen_area</th>\n",
       "      <th>living_area</th>\n",
       "      <th>rooms</th>\n",
       "      <th>total_area</th>\n",
       "      <th>price</th>\n",
       "      <th>build_year</th>\n",
       "      <th>building_type_int</th>\n",
       "      <th>latitude</th>\n",
       "      <th>longitude</th>\n",
       "      <th>ceiling_height</th>\n",
       "      <th>flats_count</th>\n",
       "      <th>floors_total</th>\n",
       "      <th>target</th>\n",
       "    </tr>\n",
       "  </thead>\n",
       "  <tbody>\n",
       "    <tr>\n",
       "      <th>count</th>\n",
       "      <td>99740.000000</td>\n",
       "      <td>99740.000000</td>\n",
       "      <td>99740.000000</td>\n",
       "      <td>99740.000000</td>\n",
       "      <td>99740.000000</td>\n",
       "      <td>99740.000000</td>\n",
       "      <td>9.974000e+04</td>\n",
       "      <td>99740.000000</td>\n",
       "      <td>99740.000000</td>\n",
       "      <td>99740.000000</td>\n",
       "      <td>99740.000000</td>\n",
       "      <td>99740.000000</td>\n",
       "      <td>99740.000000</td>\n",
       "      <td>99740.000000</td>\n",
       "      <td>99740.000000</td>\n",
       "    </tr>\n",
       "    <tr>\n",
       "      <th>mean</th>\n",
       "      <td>69744.545699</td>\n",
       "      <td>6.742320</td>\n",
       "      <td>8.120362</td>\n",
       "      <td>27.908662</td>\n",
       "      <td>1.967114</td>\n",
       "      <td>52.402821</td>\n",
       "      <td>1.271694e+07</td>\n",
       "      <td>1984.153258</td>\n",
       "      <td>3.484339</td>\n",
       "      <td>55.728830</td>\n",
       "      <td>37.603148</td>\n",
       "      <td>2.693106</td>\n",
       "      <td>222.017485</td>\n",
       "      <td>13.035141</td>\n",
       "      <td>16.239943</td>\n",
       "    </tr>\n",
       "    <tr>\n",
       "      <th>std</th>\n",
       "      <td>41175.104554</td>\n",
       "      <td>4.509732</td>\n",
       "      <td>3.065108</td>\n",
       "      <td>14.807722</td>\n",
       "      <td>0.824230</td>\n",
       "      <td>17.105786</td>\n",
       "      <td>4.388462e+07</td>\n",
       "      <td>19.589236</td>\n",
       "      <td>1.432481</td>\n",
       "      <td>0.102409</td>\n",
       "      <td>0.147503</td>\n",
       "      <td>0.136023</td>\n",
       "      <td>133.675928</td>\n",
       "      <td>5.149447</td>\n",
       "      <td>0.474819</td>\n",
       "    </tr>\n",
       "    <tr>\n",
       "      <th>min</th>\n",
       "      <td>0.000000</td>\n",
       "      <td>1.000000</td>\n",
       "      <td>0.000000</td>\n",
       "      <td>0.000000</td>\n",
       "      <td>1.000000</td>\n",
       "      <td>11.000000</td>\n",
       "      <td>1.100000e+01</td>\n",
       "      <td>1914.000000</td>\n",
       "      <td>0.000000</td>\n",
       "      <td>55.427238</td>\n",
       "      <td>37.190639</td>\n",
       "      <td>2.450000</td>\n",
       "      <td>1.000000</td>\n",
       "      <td>1.000000</td>\n",
       "      <td>2.484907</td>\n",
       "    </tr>\n",
       "    <tr>\n",
       "      <th>25%</th>\n",
       "      <td>33730.750000</td>\n",
       "      <td>3.000000</td>\n",
       "      <td>6.000000</td>\n",
       "      <td>19.000000</td>\n",
       "      <td>1.000000</td>\n",
       "      <td>38.500000</td>\n",
       "      <td>8.590000e+06</td>\n",
       "      <td>1968.000000</td>\n",
       "      <td>2.000000</td>\n",
       "      <td>55.650444</td>\n",
       "      <td>37.496704</td>\n",
       "      <td>2.640000</td>\n",
       "      <td>111.000000</td>\n",
       "      <td>9.000000</td>\n",
       "      <td>15.966109</td>\n",
       "    </tr>\n",
       "    <tr>\n",
       "      <th>50%</th>\n",
       "      <td>69750.500000</td>\n",
       "      <td>6.000000</td>\n",
       "      <td>8.400000</td>\n",
       "      <td>28.799999</td>\n",
       "      <td>2.000000</td>\n",
       "      <td>49.700001</td>\n",
       "      <td>1.099000e+07</td>\n",
       "      <td>1979.000000</td>\n",
       "      <td>4.000000</td>\n",
       "      <td>55.718822</td>\n",
       "      <td>37.590794</td>\n",
       "      <td>2.640000</td>\n",
       "      <td>192.000000</td>\n",
       "      <td>12.000000</td>\n",
       "      <td>16.212496</td>\n",
       "    </tr>\n",
       "    <tr>\n",
       "      <th>75%</th>\n",
       "      <td>105040.250000</td>\n",
       "      <td>10.000000</td>\n",
       "      <td>10.000000</td>\n",
       "      <td>37.000000</td>\n",
       "      <td>3.000000</td>\n",
       "      <td>62.000000</td>\n",
       "      <td>1.430000e+07</td>\n",
       "      <td>2002.000000</td>\n",
       "      <td>4.000000</td>\n",
       "      <td>55.812847</td>\n",
       "      <td>37.719837</td>\n",
       "      <td>2.740000</td>\n",
       "      <td>298.000000</td>\n",
       "      <td>17.000000</td>\n",
       "      <td>16.475770</td>\n",
       "    </tr>\n",
       "    <tr>\n",
       "      <th>max</th>\n",
       "      <td>141361.000000</td>\n",
       "      <td>20.000000</td>\n",
       "      <td>16.300000</td>\n",
       "      <td>74.000000</td>\n",
       "      <td>6.000000</td>\n",
       "      <td>118.699997</td>\n",
       "      <td>9.799999e+09</td>\n",
       "      <td>2023.000000</td>\n",
       "      <td>6.000000</td>\n",
       "      <td>56.011032</td>\n",
       "      <td>37.946411</td>\n",
       "      <td>3.000000</td>\n",
       "      <td>638.000000</td>\n",
       "      <td>29.000000</td>\n",
       "      <td>23.005648</td>\n",
       "    </tr>\n",
       "  </tbody>\n",
       "</table>\n",
       "</div>"
      ],
      "text/plain": [
       "             flat_id         floor  kitchen_area   living_area         rooms  \\\n",
       "count   99740.000000  99740.000000  99740.000000  99740.000000  99740.000000   \n",
       "mean    69744.545699      6.742320      8.120362     27.908662      1.967114   \n",
       "std     41175.104554      4.509732      3.065108     14.807722      0.824230   \n",
       "min         0.000000      1.000000      0.000000      0.000000      1.000000   \n",
       "25%     33730.750000      3.000000      6.000000     19.000000      1.000000   \n",
       "50%     69750.500000      6.000000      8.400000     28.799999      2.000000   \n",
       "75%    105040.250000     10.000000     10.000000     37.000000      3.000000   \n",
       "max    141361.000000     20.000000     16.300000     74.000000      6.000000   \n",
       "\n",
       "         total_area         price    build_year  building_type_int  \\\n",
       "count  99740.000000  9.974000e+04  99740.000000       99740.000000   \n",
       "mean      52.402821  1.271694e+07   1984.153258           3.484339   \n",
       "std       17.105786  4.388462e+07     19.589236           1.432481   \n",
       "min       11.000000  1.100000e+01   1914.000000           0.000000   \n",
       "25%       38.500000  8.590000e+06   1968.000000           2.000000   \n",
       "50%       49.700001  1.099000e+07   1979.000000           4.000000   \n",
       "75%       62.000000  1.430000e+07   2002.000000           4.000000   \n",
       "max      118.699997  9.799999e+09   2023.000000           6.000000   \n",
       "\n",
       "           latitude     longitude  ceiling_height   flats_count  floors_total  \\\n",
       "count  99740.000000  99740.000000    99740.000000  99740.000000  99740.000000   \n",
       "mean      55.728830     37.603148        2.693106    222.017485     13.035141   \n",
       "std        0.102409      0.147503        0.136023    133.675928      5.149447   \n",
       "min       55.427238     37.190639        2.450000      1.000000      1.000000   \n",
       "25%       55.650444     37.496704        2.640000    111.000000      9.000000   \n",
       "50%       55.718822     37.590794        2.640000    192.000000     12.000000   \n",
       "75%       55.812847     37.719837        2.740000    298.000000     17.000000   \n",
       "max       56.011032     37.946411        3.000000    638.000000     29.000000   \n",
       "\n",
       "             target  \n",
       "count  99740.000000  \n",
       "mean      16.239943  \n",
       "std        0.474819  \n",
       "min        2.484907  \n",
       "25%       15.966109  \n",
       "50%       16.212496  \n",
       "75%       16.475770  \n",
       "max       23.005648  "
      ]
     },
     "execution_count": 26,
     "metadata": {},
     "output_type": "execute_result"
    }
   ],
   "source": [
    "clean_data.describe()"
   ]
  },
  {
   "cell_type": "markdown",
   "id": "9b549661",
   "metadata": {},
   "source": [
    "Видим, что колонки latitude и longitude можно считать константными и исключить из числа признаков."
   ]
  },
  {
   "cell_type": "code",
   "execution_count": null,
   "id": "7831c3d9",
   "metadata": {},
   "outputs": [],
   "source": []
  },
  {
   "cell_type": "code",
   "execution_count": null,
   "id": "007baef4",
   "metadata": {},
   "outputs": [],
   "source": []
  },
  {
   "cell_type": "code",
   "execution_count": null,
   "id": "4e0bf59b",
   "metadata": {},
   "outputs": [],
   "source": []
  },
  {
   "cell_type": "code",
   "execution_count": 49,
   "id": "15aa941b",
   "metadata": {},
   "outputs": [],
   "source": [
    "dst_conn.dispose()"
   ]
  }
 ],
 "metadata": {
  "kernelspec": {
   "display_name": "Python 3 (ipykernel)",
   "language": "python",
   "name": "python3"
  },
  "language_info": {
   "codemirror_mode": {
    "name": "ipython",
    "version": 3
   },
   "file_extension": ".py",
   "mimetype": "text/x-python",
   "name": "python",
   "nbconvert_exporter": "python",
   "pygments_lexer": "ipython3",
   "version": "3.10.12"
  }
 },
 "nbformat": 4,
 "nbformat_minor": 5
}
